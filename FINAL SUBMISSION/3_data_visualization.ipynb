{
 "cells": [
  {
   "cell_type": "markdown",
   "metadata": {},
   "source": [
    "# 3. Data Visualization\n",
    "*Note: If you are prompted to select a kernel, please select PyTorch 1.8 Python 3.6*\n",
    "\n",
    "In this notebook we will visualize our sample data set.\n",
    "\n",
    "You can select Run->Run All Cells from the menu to run all cells in Studio (or Cell->Run All in a SageMaker Notebook Instance)."
   ]
  },
  {
   "cell_type": "markdown",
   "metadata": {},
   "source": [
    "This solution relies on a config file to run the provisioned AWS resources. Run the cell below to generate that file."
   ]
  },
  {
   "cell_type": "code",
   "execution_count": 2,
   "metadata": {
    "collapsed": false,
    "jupyter": {
     "outputs_hidden": false
    },
    "pycharm": {
     "name": "#%%\n"
    }
   },
   "outputs": [],
   "source": [
    "import boto3\n",
    "import os\n",
    "import json\n",
    "\n",
    "client = boto3.client('servicecatalog')\n",
    "cwd = os.getcwd().split('/')\n",
    "i= cwd.index('S3Downloads')\n",
    "pp_name = cwd[i + 1]\n",
    "pp = client.describe_provisioned_product(Name=pp_name)\n",
    "record_id = pp['ProvisionedProductDetail']['LastSuccessfulProvisioningRecordId']\n",
    "record = client.describe_record(Id=record_id)\n",
    "\n",
    "keys = [ x['OutputKey'] for x in record['RecordOutputs'] if 'OutputKey' and 'OutputValue' in x]\n",
    "values = [ x['OutputValue'] for x in record['RecordOutputs'] if 'OutputKey' and 'OutputValue' in x]\n",
    "stack_output = dict(zip(keys, values))\n",
    "\n",
    "with open(f'/root/S3Downloads/{pp_name}/stack_outputs.json', 'w') as f:\n",
    "    json.dump(stack_output, f)\n"
   ]
  },
  {
   "cell_type": "markdown",
   "metadata": {
    "pycharm": {
     "name": "#%% md\n"
    }
   },
   "source": [
    "## Dependency install"
   ]
  },
  {
   "cell_type": "code",
   "execution_count": 3,
   "metadata": {
    "collapsed": false,
    "jupyter": {
     "outputs_hidden": false
    },
    "pycharm": {
     "name": "#%%\n"
    }
   },
   "outputs": [
    {
     "name": "stdout",
     "output_type": "stream",
     "text": [
      "Looking in links: file:///root/S3Downloads/jumpstart-prod-fpm_k96rp4/wheelhouse\n",
      "Processing ./wheelhouse/ipywidgets-7.7.0-py2.py3-none-any.whl\n",
      "Processing ./wheelhouse/ipykernel-6.13.0-py3-none-any.whl\n",
      "Processing ./wheelhouse/traitlets-5.2.2.post1-py3-none-any.whl\n",
      "Processing ./wheelhouse/widgetsnbextension-3.6.0-py2.py3-none-any.whl\n",
      "Processing ./wheelhouse/ipython_genutils-0.2.0-py2.py3-none-any.whl\n",
      "Processing ./wheelhouse/nbformat-5.4.0-py3-none-any.whl\n",
      "Processing ./wheelhouse/jupyterlab_widgets-1.1.0-py3-none-any.whl\n",
      "Processing ./wheelhouse/ipython-8.4.0-py3-none-any.whl\n",
      "Processing ./wheelhouse/tornado-6.1-cp38-cp38-manylinux2010_x86_64.whl\n",
      "Processing ./wheelhouse/matplotlib_inline-0.1.3-py3-none-any.whl\n",
      "Processing ./wheelhouse/packaging-21.3-py3-none-any.whl\n",
      "Processing ./wheelhouse/psutil-5.9.1-cp38-cp38-manylinux_2_12_x86_64.manylinux2010_x86_64.manylinux_2_17_x86_64.manylinux2014_x86_64.whl\n",
      "Processing ./wheelhouse/nest_asyncio-1.5.5-py3-none-any.whl\n",
      "Processing ./wheelhouse/jupyter_client-7.3.1-py3-none-any.whl\n",
      "Processing ./wheelhouse/debugpy-1.6.0-cp38-cp38-manylinux_2_5_x86_64.manylinux1_x86_64.manylinux_2_12_x86_64.manylinux2010_x86_64.whl\n",
      "Processing ./wheelhouse/jedi-0.18.1-py2.py3-none-any.whl\n",
      "Processing ./wheelhouse/pickleshare-0.7.5-py2.py3-none-any.whl\n",
      "Processing ./wheelhouse/Pygments-2.12.0-py3-none-any.whl\n",
      "Processing ./wheelhouse/decorator-5.1.1-py3-none-any.whl\n",
      "Processing ./wheelhouse/stack_data-0.2.0-py3-none-any.whl\n",
      "Processing ./wheelhouse/pexpect-4.8.0-py2.py3-none-any.whl\n",
      "Processing ./wheelhouse/setuptools-63.1.0-py3-none-any.whl\n",
      "Processing ./wheelhouse/prompt_toolkit-3.0.29-py3-none-any.whl\n",
      "Processing ./wheelhouse/backcall-0.2.0-py2.py3-none-any.whl\n",
      "Processing ./wheelhouse/jsonschema-4.6.0-py3-none-any.whl\n",
      "Processing ./wheelhouse/fastjsonschema-2.15.3-py3-none-any.whl\n",
      "Processing ./wheelhouse/jupyter_core-4.10.0-py3-none-any.whl\n",
      "Processing ./wheelhouse/notebook-6.4.11-py3-none-any.whl\n",
      "Processing ./wheelhouse/parso-0.8.3-py2.py3-none-any.whl\n",
      "Processing ./wheelhouse/importlib_resources-5.7.1-py3-none-any.whl\n",
      "Processing ./wheelhouse/pyrsistent-0.18.1-cp38-cp38-manylinux_2_17_x86_64.manylinux2014_x86_64.whl\n",
      "Processing ./wheelhouse/attrs-21.4.0-py2.py3-none-any.whl\n",
      "Processing ./wheelhouse/python_dateutil-2.8.2-py2.py3-none-any.whl\n",
      "Processing ./wheelhouse/entrypoints-0.4-py3-none-any.whl\n",
      "Processing ./wheelhouse/pyzmq-23.0.0-cp38-cp38-manylinux_2_12_x86_64.manylinux2010_x86_64.whl\n",
      "Processing ./wheelhouse/nbconvert-6.5.0-py3-none-any.whl\n",
      "Processing ./wheelhouse/argon2_cffi-21.3.0-py3-none-any.whl\n",
      "Processing ./wheelhouse/prometheus_client-0.14.1-py3-none-any.whl\n",
      "Processing ./wheelhouse/terminado-0.15.0-py3-none-any.whl\n",
      "Processing ./wheelhouse/Send2Trash-1.8.0-py3-none-any.whl\n",
      "Processing ./wheelhouse/Jinja2-3.1.2-py3-none-any.whl\n",
      "Processing ./wheelhouse/ptyprocess-0.7.0-py2.py3-none-any.whl\n",
      "Processing ./wheelhouse/wcwidth-0.2.5-py2.py3-none-any.whl\n",
      "Processing ./wheelhouse/pyparsing-3.0.9-py3-none-any.whl\n",
      "Processing ./wheelhouse/asttokens-2.0.5-py2.py3-none-any.whl\n",
      "Processing ./wheelhouse/pure_eval-0.2.2-py3-none-any.whl\n",
      "Processing ./wheelhouse/executing-0.8.3-py2.py3-none-any.whl\n",
      "Processing ./wheelhouse/zipp-3.8.0-py3-none-any.whl\n",
      "Processing ./wheelhouse/MarkupSafe-2.1.1-cp38-cp38-manylinux_2_17_x86_64.manylinux2014_x86_64.whl\n",
      "Processing ./wheelhouse/pandocfilters-1.5.0-py2.py3-none-any.whl\n",
      "Processing ./wheelhouse/tinycss2-1.1.1-py3-none-any.whl\n",
      "Processing ./wheelhouse/mistune-0.8.4-py2.py3-none-any.whl\n",
      "Processing ./wheelhouse/nbclient-0.6.4-py3-none-any.whl\n",
      "Processing ./wheelhouse/defusedxml-0.7.1-py2.py3-none-any.whl\n",
      "Processing ./wheelhouse/bleach-5.0.0-py3-none-any.whl\n",
      "Processing ./wheelhouse/jupyterlab_pygments-0.2.2-py2.py3-none-any.whl\n",
      "Processing ./wheelhouse/beautifulsoup4-4.11.1-py3-none-any.whl\n",
      "Processing ./wheelhouse/six-1.16.0-py2.py3-none-any.whl\n",
      "Processing ./wheelhouse/argon2_cffi_bindings-21.2.0-cp36-abi3-manylinux_2_17_x86_64.manylinux2014_x86_64.whl\n",
      "Processing ./wheelhouse/cffi-1.15.0-cp38-cp38-manylinux_2_12_x86_64.manylinux2010_x86_64.whl\n",
      "Processing ./wheelhouse/soupsieve-2.3.2.post1-py3-none-any.whl\n",
      "Processing ./wheelhouse/webencodings-0.5.1-py2.py3-none-any.whl\n",
      "Processing ./wheelhouse/pycparser-2.21-py2.py3-none-any.whl\n",
      "Installing collected packages: webencodings, wcwidth, Send2Trash, pure-eval, ptyprocess, pickleshare, mistune, ipython-genutils, fastjsonschema, executing, backcall, zipp, traitlets, tornado, tinycss2, soupsieve, six, setuptools, pyzmq, pyrsistent, pyparsing, pygments, pycparser, psutil, prompt-toolkit, prometheus-client, pexpect, parso, pandocfilters, nest-asyncio, MarkupSafe, jupyterlab-widgets, jupyterlab-pygments, entrypoints, defusedxml, decorator, debugpy, attrs, terminado, python-dateutil, packaging, matplotlib-inline, jupyter-core, jinja2, jedi, importlib-resources, cffi, bleach, beautifulsoup4, asttokens, stack-data, jupyter-client, jsonschema, argon2-cffi-bindings, nbformat, ipython, argon2-cffi, nbclient, ipykernel, nbconvert, notebook, widgetsnbextension, ipywidgets\n",
      "\u001b[31mERROR: pip's dependency resolver does not currently take into account all the packages that are installed. This behaviour is the source of the following dependency conflicts.\n",
      "sagemaker 2.77.1 requires attrs==20.3.0, but you have attrs 21.4.0 which is incompatible.\u001b[0m\u001b[31m\n",
      "\u001b[0mSuccessfully installed MarkupSafe-2.1.1 Send2Trash-1.8.0 argon2-cffi-21.3.0 argon2-cffi-bindings-21.2.0 asttokens-2.0.5 attrs-21.4.0 backcall-0.2.0 beautifulsoup4-4.11.1 bleach-5.0.0 cffi-1.15.0 debugpy-1.6.0 decorator-5.1.1 defusedxml-0.7.1 entrypoints-0.4 executing-0.8.3 fastjsonschema-2.15.3 importlib-resources-5.7.1 ipykernel-6.13.0 ipython-8.4.0 ipython-genutils-0.2.0 ipywidgets-7.7.0 jedi-0.18.1 jinja2-3.1.2 jsonschema-4.6.0 jupyter-client-7.3.1 jupyter-core-4.10.0 jupyterlab-pygments-0.2.2 jupyterlab-widgets-1.1.0 matplotlib-inline-0.1.3 mistune-0.8.4 nbclient-0.6.4 nbconvert-6.5.0 nbformat-5.4.0 nest-asyncio-1.5.5 notebook-6.4.11 packaging-21.3 pandocfilters-1.5.0 parso-0.8.3 pexpect-4.8.0 pickleshare-0.7.5 prometheus-client-0.14.1 prompt-toolkit-3.0.31 psutil-5.9.1 ptyprocess-0.7.0 pure-eval-0.2.2 pycparser-2.21 pygments-2.13.0 pyparsing-3.0.9 pyrsistent-0.18.1 python-dateutil-2.8.2 pyzmq-23.0.0 setuptools-63.1.0 six-1.16.0 soupsieve-2.3.2.post1 stack-data-0.2.0 terminado-0.15.0 tinycss2-1.1.1 tornado-6.1 traitlets-5.2.2.post1 wcwidth-0.2.5 webencodings-0.5.1 widgetsnbextension-3.6.0 zipp-3.8.0\n",
      "\u001b[33mWARNING: Running pip as the 'root' user can result in broken permissions and conflicting behaviour with the system package manager. It is recommended to use a virtual environment instead: https://pip.pypa.io/warnings/venv\u001b[0m\u001b[33m\n",
      "\u001b[0mEnabling notebook extension jupyter-js-widgets/extension...\n",
      "      - Validating: \u001b[32mOK\u001b[0m\n"
     ]
    }
   ],
   "source": [
    "!pip install -I ipywidgets --no-index --find-links file://$PWD/wheelhouse\n",
    "!jupyter nbextension enable --py widgetsnbextension"
   ]
  },
  {
   "cell_type": "code",
   "execution_count": 4,
   "metadata": {},
   "outputs": [],
   "source": [
    "import pandas as pd\n",
    "import numpy as np\n",
    "import random\n",
    "\n",
    "import matplotlib.pyplot as plt\n",
    "import seaborn as sns\n",
    "\n",
    "import ipywidgets as widgets\n",
    "from ipywidgets import interact, interact_manual\n",
    "\n",
    "from source.config import Config\n",
    "from source.visualization.plot_utils import build_chart\n",
    "from source.dl_utils.dataset import PMDataset_torch\n",
    "\n",
    "np.random.seed(12345)\n",
    "\n",
    "%matplotlib inline\n",
    "plt.style.use('ggplot')\n",
    "colour_options = [\"#81ecec\", \"#a29bfe\", \"#fd79a8\", \"#ffeaa7\", \"#b2bec3\", \"#00b894\", \"#ff7675\", \"#e84393\", \"#e17055\"]"
   ]
  },
  {
   "cell_type": "markdown",
   "metadata": {},
   "source": [
    "## Define the data path in the config file"
   ]
  },
  {
   "cell_type": "code",
   "execution_count": 5,
   "metadata": {},
   "outputs": [],
   "source": [
    "config = Config(filename=\"config/config.yaml\")"
   ]
  },
  {
   "cell_type": "markdown",
   "metadata": {},
   "source": [
    "## Check the input data"
   ]
  },
  {
   "cell_type": "code",
   "execution_count": null,
   "metadata": {},
   "outputs": [],
   "source": [
    "df = pd.read_csv(config.train_dataset_fn)\n",
    "@interact(x=(0, 20, 1))\n",
    "def show_articles_more_than(x=10):\n",
    "    return df.head(x)"
   ]
  },
  {
   "cell_type": "code",
   "execution_count": 7,
   "metadata": {},
   "outputs": [
    {
     "data": {
      "text/html": [
       "<div>\n",
       "<style scoped>\n",
       "    .dataframe tbody tr th:only-of-type {\n",
       "        vertical-align: middle;\n",
       "    }\n",
       "\n",
       "    .dataframe tbody tr th {\n",
       "        vertical-align: top;\n",
       "    }\n",
       "\n",
       "    .dataframe thead th {\n",
       "        text-align: right;\n",
       "    }\n",
       "</style>\n",
       "<table border=\"1\" class=\"dataframe\">\n",
       "  <thead>\n",
       "    <tr style=\"text-align: right;\">\n",
       "      <th></th>\n",
       "      <th>vehicle_id</th>\n",
       "      <th>period_ms</th>\n",
       "      <th>target</th>\n",
       "      <th>year</th>\n",
       "      <th>voltage_0</th>\n",
       "      <th>voltage_1</th>\n",
       "      <th>voltage_2</th>\n",
       "      <th>voltage_3</th>\n",
       "      <th>voltage_4</th>\n",
       "      <th>voltage_5</th>\n",
       "      <th>...</th>\n",
       "      <th>current_10</th>\n",
       "      <th>current_11</th>\n",
       "      <th>current_12</th>\n",
       "      <th>current_13</th>\n",
       "      <th>current_14</th>\n",
       "      <th>current_15</th>\n",
       "      <th>current_16</th>\n",
       "      <th>current_17</th>\n",
       "      <th>current_18</th>\n",
       "      <th>current_19</th>\n",
       "    </tr>\n",
       "  </thead>\n",
       "  <tbody>\n",
       "    <tr>\n",
       "      <th>count</th>\n",
       "      <td>6336.000000</td>\n",
       "      <td>6336.0</td>\n",
       "      <td>6336.000000</td>\n",
       "      <td>6336.000000</td>\n",
       "      <td>6336.000000</td>\n",
       "      <td>6336.000000</td>\n",
       "      <td>6336.000000</td>\n",
       "      <td>6336.000000</td>\n",
       "      <td>6336.000000</td>\n",
       "      <td>6336.000000</td>\n",
       "      <td>...</td>\n",
       "      <td>6336.000000</td>\n",
       "      <td>6336.000000</td>\n",
       "      <td>6336.000000</td>\n",
       "      <td>6336.000000</td>\n",
       "      <td>6336.000000</td>\n",
       "      <td>6336.000000</td>\n",
       "      <td>6336.000000</td>\n",
       "      <td>6336.000000</td>\n",
       "      <td>6336.000000</td>\n",
       "      <td>6336.000000</td>\n",
       "    </tr>\n",
       "    <tr>\n",
       "      <th>mean</th>\n",
       "      <td>117.771938</td>\n",
       "      <td>30000.0</td>\n",
       "      <td>0.500000</td>\n",
       "      <td>2016.003157</td>\n",
       "      <td>13.697564</td>\n",
       "      <td>13.697149</td>\n",
       "      <td>13.695665</td>\n",
       "      <td>13.695504</td>\n",
       "      <td>13.695122</td>\n",
       "      <td>13.694342</td>\n",
       "      <td>...</td>\n",
       "      <td>0.170984</td>\n",
       "      <td>0.170981</td>\n",
       "      <td>0.171001</td>\n",
       "      <td>0.171089</td>\n",
       "      <td>0.171112</td>\n",
       "      <td>0.171132</td>\n",
       "      <td>0.171199</td>\n",
       "      <td>0.171159</td>\n",
       "      <td>0.171179</td>\n",
       "      <td>0.171220</td>\n",
       "    </tr>\n",
       "    <tr>\n",
       "      <th>std</th>\n",
       "      <td>65.498879</td>\n",
       "      <td>0.0</td>\n",
       "      <td>0.500039</td>\n",
       "      <td>3.262326</td>\n",
       "      <td>0.387083</td>\n",
       "      <td>0.382559</td>\n",
       "      <td>0.378116</td>\n",
       "      <td>0.374015</td>\n",
       "      <td>0.372158</td>\n",
       "      <td>0.370381</td>\n",
       "      <td>...</td>\n",
       "      <td>0.076827</td>\n",
       "      <td>0.076874</td>\n",
       "      <td>0.076878</td>\n",
       "      <td>0.076942</td>\n",
       "      <td>0.077055</td>\n",
       "      <td>0.077088</td>\n",
       "      <td>0.077141</td>\n",
       "      <td>0.077187</td>\n",
       "      <td>0.077235</td>\n",
       "      <td>0.077343</td>\n",
       "    </tr>\n",
       "    <tr>\n",
       "      <th>min</th>\n",
       "      <td>0.000000</td>\n",
       "      <td>30000.0</td>\n",
       "      <td>0.000000</td>\n",
       "      <td>2006.000000</td>\n",
       "      <td>11.916367</td>\n",
       "      <td>11.916668</td>\n",
       "      <td>12.036821</td>\n",
       "      <td>12.083674</td>\n",
       "      <td>12.129112</td>\n",
       "      <td>12.275903</td>\n",
       "      <td>...</td>\n",
       "      <td>-0.040218</td>\n",
       "      <td>-0.040293</td>\n",
       "      <td>-0.040293</td>\n",
       "      <td>-0.040293</td>\n",
       "      <td>-0.040919</td>\n",
       "      <td>-0.040919</td>\n",
       "      <td>-0.040242</td>\n",
       "      <td>-0.040919</td>\n",
       "      <td>-0.040919</td>\n",
       "      <td>-0.040919</td>\n",
       "    </tr>\n",
       "    <tr>\n",
       "      <th>25%</th>\n",
       "      <td>61.000000</td>\n",
       "      <td>30000.0</td>\n",
       "      <td>0.000000</td>\n",
       "      <td>2014.000000</td>\n",
       "      <td>13.435780</td>\n",
       "      <td>13.436723</td>\n",
       "      <td>13.437213</td>\n",
       "      <td>13.433979</td>\n",
       "      <td>13.436075</td>\n",
       "      <td>13.433676</td>\n",
       "      <td>...</td>\n",
       "      <td>0.127728</td>\n",
       "      <td>0.127728</td>\n",
       "      <td>0.127754</td>\n",
       "      <td>0.127646</td>\n",
       "      <td>0.127309</td>\n",
       "      <td>0.127484</td>\n",
       "      <td>0.127441</td>\n",
       "      <td>0.127623</td>\n",
       "      <td>0.127724</td>\n",
       "      <td>0.128034</td>\n",
       "    </tr>\n",
       "    <tr>\n",
       "      <th>50%</th>\n",
       "      <td>118.000000</td>\n",
       "      <td>30000.0</td>\n",
       "      <td>0.500000</td>\n",
       "      <td>2017.000000</td>\n",
       "      <td>13.766741</td>\n",
       "      <td>13.766730</td>\n",
       "      <td>13.764264</td>\n",
       "      <td>13.765762</td>\n",
       "      <td>13.765613</td>\n",
       "      <td>13.763062</td>\n",
       "      <td>...</td>\n",
       "      <td>0.157481</td>\n",
       "      <td>0.157501</td>\n",
       "      <td>0.157516</td>\n",
       "      <td>0.157545</td>\n",
       "      <td>0.157530</td>\n",
       "      <td>0.157497</td>\n",
       "      <td>0.157545</td>\n",
       "      <td>0.157574</td>\n",
       "      <td>0.157516</td>\n",
       "      <td>0.157470</td>\n",
       "    </tr>\n",
       "    <tr>\n",
       "      <th>75%</th>\n",
       "      <td>180.000000</td>\n",
       "      <td>30000.0</td>\n",
       "      <td>1.000000</td>\n",
       "      <td>2018.000000</td>\n",
       "      <td>13.923812</td>\n",
       "      <td>13.923104</td>\n",
       "      <td>13.923807</td>\n",
       "      <td>13.922546</td>\n",
       "      <td>13.922434</td>\n",
       "      <td>13.922265</td>\n",
       "      <td>...</td>\n",
       "      <td>0.189405</td>\n",
       "      <td>0.189460</td>\n",
       "      <td>0.189560</td>\n",
       "      <td>0.189509</td>\n",
       "      <td>0.189548</td>\n",
       "      <td>0.189733</td>\n",
       "      <td>0.189855</td>\n",
       "      <td>0.189842</td>\n",
       "      <td>0.189860</td>\n",
       "      <td>0.189847</td>\n",
       "    </tr>\n",
       "    <tr>\n",
       "      <th>max</th>\n",
       "      <td>224.000000</td>\n",
       "      <td>30000.0</td>\n",
       "      <td>1.000000</td>\n",
       "      <td>2020.000000</td>\n",
       "      <td>15.629216</td>\n",
       "      <td>15.581195</td>\n",
       "      <td>15.580678</td>\n",
       "      <td>15.564295</td>\n",
       "      <td>15.373973</td>\n",
       "      <td>15.340054</td>\n",
       "      <td>...</td>\n",
       "      <td>0.432845</td>\n",
       "      <td>0.432845</td>\n",
       "      <td>0.432845</td>\n",
       "      <td>0.432845</td>\n",
       "      <td>0.435582</td>\n",
       "      <td>0.447151</td>\n",
       "      <td>0.447151</td>\n",
       "      <td>0.447151</td>\n",
       "      <td>0.447151</td>\n",
       "      <td>0.447151</td>\n",
       "    </tr>\n",
       "  </tbody>\n",
       "</table>\n",
       "<p>8 rows × 44 columns</p>\n",
       "</div>"
      ],
      "text/plain": [
       "        vehicle_id  period_ms       target         year    voltage_0  \\\n",
       "count  6336.000000     6336.0  6336.000000  6336.000000  6336.000000   \n",
       "mean    117.771938    30000.0     0.500000  2016.003157    13.697564   \n",
       "std      65.498879        0.0     0.500039     3.262326     0.387083   \n",
       "min       0.000000    30000.0     0.000000  2006.000000    11.916367   \n",
       "25%      61.000000    30000.0     0.000000  2014.000000    13.435780   \n",
       "50%     118.000000    30000.0     0.500000  2017.000000    13.766741   \n",
       "75%     180.000000    30000.0     1.000000  2018.000000    13.923812   \n",
       "max     224.000000    30000.0     1.000000  2020.000000    15.629216   \n",
       "\n",
       "         voltage_1    voltage_2    voltage_3    voltage_4    voltage_5  ...  \\\n",
       "count  6336.000000  6336.000000  6336.000000  6336.000000  6336.000000  ...   \n",
       "mean     13.697149    13.695665    13.695504    13.695122    13.694342  ...   \n",
       "std       0.382559     0.378116     0.374015     0.372158     0.370381  ...   \n",
       "min      11.916668    12.036821    12.083674    12.129112    12.275903  ...   \n",
       "25%      13.436723    13.437213    13.433979    13.436075    13.433676  ...   \n",
       "50%      13.766730    13.764264    13.765762    13.765613    13.763062  ...   \n",
       "75%      13.923104    13.923807    13.922546    13.922434    13.922265  ...   \n",
       "max      15.581195    15.580678    15.564295    15.373973    15.340054  ...   \n",
       "\n",
       "        current_10   current_11   current_12   current_13   current_14  \\\n",
       "count  6336.000000  6336.000000  6336.000000  6336.000000  6336.000000   \n",
       "mean      0.170984     0.170981     0.171001     0.171089     0.171112   \n",
       "std       0.076827     0.076874     0.076878     0.076942     0.077055   \n",
       "min      -0.040218    -0.040293    -0.040293    -0.040293    -0.040919   \n",
       "25%       0.127728     0.127728     0.127754     0.127646     0.127309   \n",
       "50%       0.157481     0.157501     0.157516     0.157545     0.157530   \n",
       "75%       0.189405     0.189460     0.189560     0.189509     0.189548   \n",
       "max       0.432845     0.432845     0.432845     0.432845     0.435582   \n",
       "\n",
       "        current_15   current_16   current_17   current_18   current_19  \n",
       "count  6336.000000  6336.000000  6336.000000  6336.000000  6336.000000  \n",
       "mean      0.171132     0.171199     0.171159     0.171179     0.171220  \n",
       "std       0.077088     0.077141     0.077187     0.077235     0.077343  \n",
       "min      -0.040919    -0.040242    -0.040919    -0.040919    -0.040919  \n",
       "25%       0.127484     0.127441     0.127623     0.127724     0.128034  \n",
       "50%       0.157497     0.157545     0.157574     0.157516     0.157470  \n",
       "75%       0.189733     0.189855     0.189842     0.189860     0.189847  \n",
       "max       0.447151     0.447151     0.447151     0.447151     0.447151  \n",
       "\n",
       "[8 rows x 44 columns]"
      ]
     },
     "execution_count": 7,
     "metadata": {},
     "output_type": "execute_result"
    }
   ],
   "source": [
    "df.describe()"
   ]
  },
  {
   "cell_type": "markdown",
   "metadata": {},
   "source": [
    "## Build the dataset"
   ]
  },
  {
   "cell_type": "code",
   "execution_count": 10,
   "metadata": {},
   "outputs": [
    {
     "name": "stdout",
     "output_type": "stream",
     "text": [
      "Creating PMDataset: data/processed/train_dataset.csv\n",
      "  * Loading CSV data\n",
      "voltage mean is 13.6941+0.3656\n",
      "current mean is 0.1710+0.0768\n",
      "Done\n"
     ]
    }
   ],
   "source": [
    "train_ds = PMDataset_torch(\n",
    "    config.train_dataset_fn,\n",
    "    sensor_headers=config.sensor_headers,\n",
    "    target_column=config.target_column,\n",
    "    standardize=True)\n",
    "\n",
    "properties = train_ds.vehicle_properties_headers.copy()\n",
    "properties.remove('vehicle_id')\n",
    "properties.remove('timestamp')\n",
    "properties.remove('period_ms')"
   ]
  },
  {
   "cell_type": "markdown",
   "metadata": {},
   "source": [
    "## Visualize data statistics"
   ]
  },
  {
   "cell_type": "code",
   "execution_count": 11,
   "metadata": {},
   "outputs": [
    {
     "data": {
      "application/vnd.jupyter.widget-view+json": {
       "model_id": "5ca9925b77d34d8dbeb9ed87f75ffd0d",
       "version_major": 2,
       "version_minor": 0
      },
      "text/plain": [
       "interactive(children=(Dropdown(description='value1', options=('make', 'model', 'year', 'vehicle_class', 'engin…"
      ]
     },
     "metadata": {},
     "output_type": "display_data"
    }
   ],
   "source": [
    "[default1, default2, default3, default4] = np.random.choice(properties, size=4, replace=False).tolist()\n",
    "\n",
    "def show_chart(\n",
    "    value1=default1, \n",
    "    value2=default2, \n",
    "    value3=default3, \n",
    "    value4=default4):\n",
    "    \n",
    "    coords = {0: (0, 0), 1: (0, 1), 2: (1, 0), 3: (1, 1)}\n",
    "    fig1, ax = plt.subplots(2, 2, figsize=(1500/108, 1300/108), dpi=108)\n",
    "    \n",
    "    for idx, value in enumerate([value1, value2, value3, value4]):\n",
    "        coord = coords[idx]\n",
    "        labels, sizes = build_chart(train_ds.vehicle_properties[value])\n",
    "        x_pos = [i for i, _ in enumerate(labels)]\n",
    "        colors = np.random.choice(colour_options, size=len(sizes))\n",
    "        ax[coord[0], coord[1]].bar(x_pos, sizes, color=colors)\n",
    "        ax[coord[0], coord[1]].set_xticks(x_pos)\n",
    "        ax[coord[0], coord[1]].set_xticklabels(labels, rotation=50)\n",
    "        ax[coord[0], coord[1]].set_title(value.capitalize().replace(\"_\", \" \"))\n",
    "        ax[coord[0], coord[1]].set_ylabel(\"%\")\n",
    "    \n",
    "    fig1.tight_layout()\n",
    "widgets.interactive(\n",
    "    show_chart, \n",
    "    value1=properties,\n",
    "    value2=properties,\n",
    "    value3=properties,\n",
    "    value4=properties)"
   ]
  },
  {
   "cell_type": "markdown",
   "metadata": {},
   "source": [
    "## Visualize the specific breakdown of the data\n",
    "### A more detail breakdown of the data is shown. For example, the different models of freightliners, or different models in a given year."
   ]
  },
  {
   "cell_type": "code",
   "execution_count": 12,
   "metadata": {},
   "outputs": [
    {
     "data": {
      "application/vnd.jupyter.widget-view+json": {
       "model_id": "baeea2e7e1ce44f69e0905a2ac2d3ff9",
       "version_major": 2,
       "version_minor": 0
      },
      "text/plain": [
       "interactive(children=(Dropdown(description='property1', index=4, options=('make', 'model', 'year', 'vehicle_cl…"
      ]
     },
     "metadata": {},
     "output_type": "display_data"
    },
    {
     "data": {
      "text/plain": [
       "<function __main__.bd_update_plot(property1, value1, property2)>"
      ]
     },
     "execution_count": 12,
     "metadata": {},
     "output_type": "execute_result"
    }
   ],
   "source": [
    "def bd_update_plot(property1, value1, property2):\n",
    "    fig1 = plt.figure(figsize=(1500/108, 1000/108), dpi=108)\n",
    "\n",
    "    labels, sizes = build_chart(train_ds.select_data(**{property1: value1}).vehicle_properties[property2])\n",
    "    x_pos = [i for i, _ in enumerate(labels)]\n",
    "    colors = np.random.choice(colour_options, size=len(sizes))\n",
    "    plt.bar(x_pos, sizes, color=colors)\n",
    "    plt.xticks(x_pos, labels, rotation=50)\n",
    "    plt.title(\"{} {}\".format(str(value1).capitalize(), str(property2).lower()))\n",
    "\n",
    "bd_target_default = random.choice(properties)\n",
    "bd_target_selector = widgets.Dropdown(options=properties, value=bd_target_default)\n",
    "bd_target_value_selector = widgets.Dropdown()\n",
    "bd_secondary_selector = widgets.Dropdown(options=properties, value=random.choice(properties))\n",
    "\n",
    "def bd_update_selector(*args):\n",
    "    bd_target_value_selector.options = train_ds.vehicle_properties[bd_target_selector.value].unique().tolist()\n",
    "bd_target_selector.observe(bd_update_selector)\n",
    "bd_update_selector()\n",
    "\n",
    "widgets.interact(bd_update_plot, property1=bd_target_selector, value1=bd_target_value_selector, property2=bd_secondary_selector)"
   ]
  },
  {
   "cell_type": "markdown",
   "metadata": {},
   "source": [
    "## Log data comparison\n",
    "### An example of comparing between the means of two log data are between different years"
   ]
  },
  {
   "cell_type": "code",
   "execution_count": 13,
   "metadata": {},
   "outputs": [
    {
     "data": {
      "application/vnd.jupyter.widget-view+json": {
       "model_id": "8e3d9a659a9a49e994f0458847ed4dd4",
       "version_major": 2,
       "version_minor": 0
      },
      "text/plain": [
       "interactive(children=(Dropdown(description='target', index=1, options=('make', 'model', 'year', 'vehicle_class…"
      ]
     },
     "metadata": {},
     "output_type": "display_data"
    },
    {
     "data": {
      "text/plain": [
       "<function __main__.log_update_plot(target, target_value1, target_value2)>"
      ]
     },
     "execution_count": 13,
     "metadata": {},
     "output_type": "execute_result"
    }
   ],
   "source": [
    "target_default = random.choice(properties)\n",
    "log_target_selector = widgets.Dropdown(options=properties, value=target_default)\n",
    "log_target_value1_selector = widgets.Dropdown()\n",
    "log_target_value2_selector = widgets.Dropdown()\n",
    "\n",
    "def log_update_selector(*args):\n",
    "    log_target_value1_selector.options = train_ds.vehicle_properties[log_target_selector.value].unique().tolist()\n",
    "    log_target_value1_selector.value = random.choice(log_target_value1_selector.options)\n",
    "    log_target_value2_selector.options = train_ds.vehicle_properties[log_target_selector.value].unique().tolist()\n",
    "    log_target_value2_selector.value = random.choice(log_target_value2_selector.options)\n",
    "\n",
    "log_target_selector.observe(log_update_selector)\n",
    "log_update_selector()\n",
    "\n",
    "def log_update_plot(target, target_value1, target_value2):\n",
    "    fig, axs = plt.subplots(2, len(config.sensor_headers), figsize=(2300/108, 1000/108), dpi=108)\n",
    "    axs[0, 0].set_title(\"{} {}\".format(target_value1, target))\n",
    "    axs[1, 0].set_title(\"{} {}\".format(target_value2, target))\n",
    "\n",
    "    for i, sensor_header in enumerate(config.sensor_headers):\n",
    "        data_1 = train_ds.select_data(**{target: target_value1}).data.mean(0)\n",
    "        \n",
    "        axs[0, i].plot(data_1[:, i])\n",
    "        axs[0, i].set_title(\"{} {}\".format(target_value1, target))\n",
    "        axs[0, i].set_ylabel(\"Mean {} for {} {}\".format(sensor_header, target_value1, target))\n",
    "\n",
    "        data_2 = train_ds.select_data(**{target: target_value2}).data.mean(0)\n",
    "        axs[1, i].plot(data_2[:, i])\n",
    "        axs[1, i].set_ylabel(\"Mean {} for {} {}\".format(sensor_header, target_value2, target))\n",
    "\n",
    "widgets.interact(log_update_plot, target=log_target_selector, target_value1=log_target_value1_selector, target_value2=log_target_value2_selector)"
   ]
  },
  {
   "cell_type": "markdown",
   "metadata": {},
   "source": [
    "### Then we breakdown the means of the log data"
   ]
  },
  {
   "cell_type": "code",
   "execution_count": 14,
   "metadata": {},
   "outputs": [
    {
     "data": {
      "application/vnd.jupyter.widget-view+json": {
       "model_id": "e29e424ccd9941f398195d2a05a95eac",
       "version_major": 2,
       "version_minor": 0
      },
      "text/plain": [
       "interactive(children=(Dropdown(description='target1', index=4, options=('make', 'model', 'year', 'vehicle_clas…"
      ]
     },
     "metadata": {},
     "output_type": "display_data"
    },
    {
     "data": {
      "text/plain": [
       "<function __main__.log2_update_plot(target1, target1_value, target2, target2_compare1, target2_compare2)>"
      ]
     },
     "execution_count": 14,
     "metadata": {},
     "output_type": "execute_result"
    }
   ],
   "source": [
    "target_default = random.choice(properties)\n",
    "log2_target1_selector = widgets.Dropdown(options=properties, value=target_default)\n",
    "log2_target1_value_selector = widgets.Dropdown()\n",
    "\n",
    "log2_target2_selector = widgets.Dropdown(options=properties, value=target_default)\n",
    "log2_target2_value1_selector = widgets.Dropdown()\n",
    "log2_target2_value2_selector = widgets.Dropdown()\n",
    "\n",
    "def log2_target1_update_selector(*args):\n",
    "    log2_target1_value_selector.options = train_ds.vehicle_properties[log2_target1_selector.value].unique().tolist()\n",
    "    log2_target1_value_selector.value = random.choice(log2_target1_value_selector.options)\n",
    "\n",
    "log2_target1_selector.observe(log2_target1_update_selector)\n",
    "log2_target1_update_selector()\n",
    "\n",
    "def log2_target2_update_selector(*args):\n",
    "    log2_target2_value1_selector.options = train_ds.vehicle_properties[log2_target2_selector.value].unique().tolist()\n",
    "    log2_target2_value1_selector.value = random.choice(log2_target2_value1_selector.options)\n",
    "    log2_target2_value2_selector.options = train_ds.vehicle_properties[log2_target2_selector.value].unique().tolist()\n",
    "    log2_target2_value2_selector.value = random.choice(log2_target2_value1_selector.options)\n",
    "\n",
    "log2_target2_selector.observe(log2_target2_update_selector)\n",
    "log2_target2_update_selector()\n",
    "\n",
    "\n",
    "def log2_update_plot(target1, target1_value, target2, target2_compare1, target2_compare2):\n",
    "    fig, axs = plt.subplots(2, len(config.sensor_headers), figsize=(2300/108, 1000/108), dpi=108)\n",
    "    \n",
    "    axs[0, 0].set_title(\"{} {}\".format(target1_value, target2_compare1))\n",
    "    axs[1, 0].set_title(\"{} {}\".format(target1_value, target2_compare2))\n",
    "\n",
    "    for i, sensor_header in enumerate(config.sensor_headers):\n",
    "        data_1 = train_ds.select_data(**{target1: target1_value, target2: target2_compare1}).data.mean(0)\n",
    "        \n",
    "        axs[0, i].plot(data_1[:, i])\n",
    "        axs[0, i].set_ylabel(\"Mean {} for {}\".format(sensor_header, target2_compare1))\n",
    "\n",
    "        data_2 = train_ds.select_data(**{target1: target1_value, target2: target2_compare2}).data.mean(0)\n",
    "        axs[1, i].plot(data_2[:, i])\n",
    "        axs[1, i].set_ylabel(\"Mean {} for {}\".format(sensor_header, target2_compare2))\n",
    "    \n",
    "widgets.interact(log2_update_plot, target1=log2_target1_selector, target1_value=log2_target1_value_selector, target2=log2_target2_selector, target2_compare1=log2_target2_value1_selector, target2_compare2=log2_target2_value2_selector)"
   ]
  },
  {
   "cell_type": "markdown",
   "metadata": {},
   "source": [
    "## Visualize an example"
   ]
  },
  {
   "cell_type": "code",
   "execution_count": 15,
   "metadata": {},
   "outputs": [
    {
     "data": {
      "image/png": "[encoded data removed]",
      "text/plain": [
       "<Figure size 2000x400 with 2 Axes>"
      ]
     },
     "metadata": {},
     "output_type": "display_data"
    }
   ],
   "source": [
    "data, label = train_ds[0]\n",
    "fig, axs = plt.subplots(1, len(config.sensor_headers), figsize=(2000/108, 400/108), dpi=108)\n",
    "\n",
    "for i, sensor_header in enumerate(config.sensor_headers):\n",
    "    axs[i].plot(data[:, i])\n",
    "    axs[i].set_ylabel(\"{}\".format(sensor_header))"
   ]
  },
  {
   "cell_type": "markdown",
   "metadata": {},
   "source": [
    "## Next Stage\n",
    "Up next we'll train a model on the sample data. [Click here to continue](./4_model_training.ipynb)."
   ]
  }
 ],
 "metadata": {
  "instance_type": "ml.t3.medium",
  "kernelspec": {
   "display_name": "Python 3 (PyTorch 1.10 Python 3.8 CPU Optimized)",
   "language": "python",
   "name": "python3__SAGEMAKER_INTERNAL__arn:aws:sagemaker:eu-central-1:936697816551:image/pytorch-1.10-cpu-py38"
  },
  "language_info": {
   "codemirror_mode": {
    "name": "ipython",
    "version": 3
   },
   "file_extension": ".py",
   "mimetype": "text/x-python",
   "name": "python",
   "nbconvert_exporter": "python",
   "pygments_lexer": "ipython3",
   "version": "3.8.10"
  }
 },
 "nbformat": 4,
 "nbformat_minor": 4
}
